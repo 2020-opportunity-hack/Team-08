{
  "nbformat": 4,
  "nbformat_minor": 0,
  "metadata": {
    "colab": {
      "name": "Greenwood_match_algorithm",
      "provenance": [],
      "collapsed_sections": [],
      "authorship_tag": "ABX9TyMEAUFBUxODplDLUhueU0Is",
      "include_colab_link": true
    },
    "kernelspec": {
      "name": "python3",
      "display_name": "Python 3"
    }
  },
  "cells": [
    {
      "cell_type": "markdown",
      "metadata": {
        "id": "view-in-github",
        "colab_type": "text"
      },
      "source": [
        "<a href=\"https://colab.research.google.com/github/yttehs123/Team-08/blob/patch-2/Back-end/Greenwood_match_algorithm.ipynb\" target=\"_parent\"><img src=\"https://colab.research.google.com/assets/colab-badge.svg\" alt=\"Open In Colab\"/></a>"
      ]
    },
    {
      "cell_type": "markdown",
      "metadata": {
        "id": "BACj7IaNEgAX"
      },
      "source": [
        "#**Mentee - Mentor Recommendations**\n",
        "\n",
        "##This section informs the reader about:\n",
        "\n",
        "\n",
        "1.   The criteria used for match making\n",
        "2.   How each criteria is weighted in an intuitve sense\n",
        "3.   How the algorithm functions\n",
        "\n",
        "<br>\n",
        "\n",
        "\n",
        "###There are two major categories for the algorithm to match make. General and technical categories of criteria. Each categorie's criteria are listed below.\n",
        "\n",
        "**Technical Criteria**\n",
        "\n",
        "1.   Powerpoint expertise\n",
        "2.   word expertise\n",
        "3.   excel expertise\n",
        "4.   Industry specialisation\n",
        "\n",
        "**General Criteria**. \n",
        "\n",
        "1.   Gender Identity \n",
        "2.   Ethnicity \n",
        "3.   High school/ College \n",
        "4.   if college (Industry/sector) (Select upto 3 industries) \n",
        "\n",
        "\n",
        "\n",
        "<br>\n",
        "\n",
        "\n",
        "The user interface will ask users each general criteria as an individual qustion. Users will be asked to rate each option for each questions. \n",
        "<br> \n",
        "For e.g. On a scale of 1-3, rate who do you feel most comfortable working with. (a rating of 0 means you're not comfortable at all)\n",
        "\n",
        "*  Male   1  2  3  0 <br>\n",
        "*  Female 1  2  3  0<br>\n",
        "*  Transgender 1  2  3  0<br>\n",
        "*  Non Binary  1  2  3  0<br>\n",
        "*  No preference Y/N<br>\n",
        "\n",
        "note: ticking Y/N in the no preference option greys out the other options.\n",
        " <br>\n",
        " <br>\n",
        "The User Interface will ask the applicants to place each of the technical criteria in order of what the applicant finds the most important to the least important in their choice on mentor/mentee.\n",
        "# <br>\n",
        "**The algorithm**\n",
        "\n",
        "Each component of the algorith is explained below along with the backend code\n",
        "\n",
        "\n",
        "**Fitlers**\n",
        "\n",
        "\n",
        "\n",
        "1.   Coding Literacy\n",
        "2.   Financial\n",
        "3.   Stock\n",
        "4.   gender\n",
        "5.   ethnicity\n",
        "\n",
        "\n",
        "\n",
        "\n"
      ]
    },
    {
      "cell_type": "markdown",
      "metadata": {
        "id": "pS3JVFX_c5tY"
      },
      "source": [
        "##**Importing Libraries and the dataframe**"
      ]
    },
    {
      "cell_type": "code",
      "metadata": {
        "id": "Xqbz-4p-Dmgd"
      },
      "source": [
        "import numpy as np\n",
        "import pandas as pd\n",
        "\n",
        "mentors = pd.read_csv(\"mentors_database.csv\") #mentee applicant will be cross-referenced with the mentors database\n",
        "mentees=pd.read_csv(\"mentees_database.csv\") #mentees database, each record will be matched with every record of the mentors database\n"
      ],
      "execution_count": null,
      "outputs": []
    },
    {
      "cell_type": "markdown",
      "metadata": {
        "id": "XYyZ70XrHqiz"
      },
      "source": [
        "##Mentee attributes and Preferences"
      ]
    },
    {
      "cell_type": "code",
      "metadata": {
        "id": "sln7w_M8Hv8m"
      },
      "source": [
        "def mentee_preferences_attributes(row_index, mentees):\n",
        "\n",
        "  #Mentee preference ratings (mep)   \n",
        "  #These are the preferences of the mentee \n",
        "  #These preferences define what the mentee wants from their mentor\n",
        "  #mentee preferences will have the column names suffix of _preference\n",
        "  powerpoint_mep_rating = mentees.iloc[row_index, mentees.columns.get_loc(\"powerpoint_preference\")] \n",
        "  excel_mep_rating = mentees.iloc[row_index, mentees.columns.get_loc(\"excel_preference\")] \n",
        "  word_mep_rating = mentees.iloc[row_index, mentees.columns.get_loc(\"word_preference\")] \n",
        "\n",
        "  male_mep_rating = mentees.iloc[row_index, mentees.columns.get_loc(\"male_preference\")]  \n",
        "  female_mep_rating =mentees.iloc[row_index,mentees.columns.get_loc(\"female_preference\")]  \n",
        "  transgender_mep_rating =mentees.iloc[row_index, mentees.columns.get_loc(\"transgender_preference\")]  \n",
        "  nonbinary_mep_rating =mentees.iloc[row_index, mentees.columns.get_loc(\"nonbinary_preference\")]  \n",
        "\n",
        "  black_mep_rating =mentees.iloc[row_index, mentees.columns.get_loc(\"AfricanAmerican_preference\")]  \n",
        "  hispanic_mep_rating =mentees.iloc[row_index, mentees.columns.get_loc(\"hispanic_preference\")]  \n",
        "\n",
        "\n",
        "  #Mentee attributes (mea)  \n",
        "  #These are the attributes of the mentee \n",
        "  #These attributes define who the mentee is and their skillset\n",
        "  industry_mea =mentees.iloc[row_index, mentees.columns.get_loc(\"industry\")]  \n",
        "  education_mea =mentees.iloc[row_index, mentees.columns.get_loc(\"education\")]  \n",
        "  educationLevel_mea =mentees.iloc[row_index, mentees.columns.get_loc(\"educationLevel\")]  #fresher = 1, sophomore = 2, junior = 3, senior = 4\n",
        "\n",
        "\n",
        "  return powerpoint_mep_rating, excel_mep_rating, word_mep_rating, male_mep_rating, female_mep_rating, transgender_mep_rating, nonbinary_mep_rating, black_mep_rating, hispanic_mep_rating, industry_mea, education_mea, educationLevel_mea\n",
        "\n",
        "\n"
      ],
      "execution_count": null,
      "outputs": []
    },
    {
      "cell_type": "markdown",
      "metadata": {
        "id": "vE63cc_JHz1u"
      },
      "source": [
        "##Mentor attributes and preferences"
      ]
    },
    {
      "cell_type": "code",
      "metadata": {
        "id": "RkVSIsiHH2wh"
      },
      "source": [
        "def mentor_preferences_attributes(i, mentors):\n",
        "\n",
        "  #Mentor attributes (ma)   \n",
        "  #These are the attributes of the mentor visible \n",
        "  #These attributes define who the mentor is and their skillset\n",
        "  powerpoint_ma = mentors.iloc[i, mentors .columns.get_loc(\"powerpoint\")] \n",
        "  excel_ma = mentors.iloc[i, mentors .columns.get_loc(\"excel\")] \n",
        "  word_ma = mentors.iloc[i, mentors .columns.get_loc(\"word\")] \n",
        "  gender_ma = mentors.iloc[i, mentors .columns.get_loc(\"gender\")] \n",
        "  ethnicity_ma = mentors.iloc[i, mentors .columns.get_loc(\"ethnicity\")] \n",
        "  industry_ma = mentors.iloc[i, mentors .columns.get_loc(\"industry\")] \n",
        "\n",
        "  #Mentor preferences (mp)\n",
        "  #These are the preferences of the mentor defining the kind of mentee they want \n",
        "  #mentor preferences will have the column names suffix of _preference\n",
        "  education_mp = mentors.iloc[i, mentors .columns.get_loc(\"education_preference\")]  #This is their preference for high school vs college kids\n",
        "  educationLevel_mp = mentors.iloc[i, mentors .columns.get_loc(\"educationLevel_preference\")] \n",
        "\n",
        "  return powerpoint_ma, excel_ma, word_ma, gender_ma, ethnicity_ma, industry_ma, education_mp, educationLevel_mp"
      ],
      "execution_count": null,
      "outputs": []
    },
    {
      "cell_type": "markdown",
      "metadata": {
        "id": "2Cefd0YVdN67"
      },
      "source": [
        "##**Dealing with the Mentee preferences**"
      ]
    },
    {
      "cell_type": "code",
      "metadata": {
        "id": "Kee3CrD0erjm"
      },
      "source": [
        "def technical_rating_criteria(ma_rating, mep_rating):\n",
        "  rating_diff =  ma_rating - mep_rating\n",
        "  rating=0\n",
        "  if rating_diff >= 0:\n",
        "      rating+=3\n",
        "  elif rating_diff == -1:\n",
        "    rating+= 2\n",
        "  else:\n",
        "    rating+= 1\n",
        "  return rating\n",
        "\n",
        "\n",
        "def gender_ethnicity_rating_criteria(criteria, mentorStatus, preference_rating):\n",
        "  rating = 0\n",
        "  if criteria == mentorStatus and preference_rating==3:\n",
        "      rating+=3\n",
        "  elif criteria == mentorStatus and preference_rating==2:\n",
        "    rating+=2\n",
        "  else:\n",
        "    rating+=1\n",
        "\n",
        "  return rating\n"
      ],
      "execution_count": null,
      "outputs": []
    },
    {
      "cell_type": "code",
      "metadata": {
        "id": "HjYLReVJxFBs"
      },
      "source": [
        "def mentee_preferences(row_index, mentees, mentors): \n",
        "  mentee_matches = pd.DataFrame(columns=['MentorID', 'Percentage Match'])\n",
        "\n",
        "\n",
        "  #load current mentee preferences and attributes\n",
        "  powerpoint_mep_rating, excel_mep_rating, word_mep_rating, male_mep_rating, female_mep_rating, transgender_mep_rating, nonbinary_mep_rating, black_mep_rating, hispanic_mep_rating, industry_mea, education_mea, educationLevel_mea = mentee_preferences_attributes(row_index, mentees) \n",
        "  \n",
        "  #iterating through every mentor record\n",
        "  for i in range(len(mentors.index)):\n",
        "    #The score each criteria receives\n",
        "    technical_rating=0\n",
        "    general_rating=0\n",
        "\n",
        "    #The total score in case of a perfect rating\n",
        "    total_tech_score = 0\n",
        "    total_general_score=0\n",
        "\n",
        "    #load mentor record\n",
        "    powerpoint_ma, excel_ma, word_ma, gender_ma, ethnicity_ma, industry_ma, education_mp, educationLevel_mp = mentor_preferences_attributes(i, mentors)\n",
        "\n",
        "    ##   <-------------Scoring the technical criteria---------------->\n",
        "\n",
        "    #Powerpoint, excel and word rating\n",
        "    microsoft_multiplier = 1\n",
        "    tech_combinations = ((powerpoint_ma, powerpoint_mep_rating), (excel_ma, excel_mep_rating), (word_ma ,word_mep_rating))\n",
        "    for q in tech_combinations:\n",
        "       technical_rating+=technical_rating_criteria(q[0], q[1]) * microsoft_multiplier \n",
        "       total_tech_score+=3*microsoft_multiplier \n",
        "\n",
        "\n",
        "    #Industry match rating\n",
        "    #We only check for industry once\n",
        "    industry_multiplier = 3 # determines the effect of the industry match on the algorithm\n",
        "    industry_sets = [ set(('portfolio management', 'venture capital')), set(('asset management', 'private equity', 'financial advisor'))] #each list is a set of industries that similar to one another\n",
        "    if industry_mea == industry_ma:\n",
        "      technical_rating+=3*industry_multiplier\n",
        "    else:\n",
        "      for sets in industry_sets:\n",
        "        if industry_ma in sets and industry_mea in sets:\n",
        "          technical_rating+=2*industry_multiplier\n",
        "        else:\n",
        "          technical_rating+=1*industry_multiplier\n",
        "    total_tech_score+=3*industry_multiplier\n",
        "\n",
        "      \n",
        "    ##   <-------------Scoring the general criteria---------------->\n",
        "\n",
        "    #gender preference match rating\n",
        "    #we check for every gender\n",
        "    mentorGenders_menteeGenderPreference_combinations = [('male',male_mep_rating ), ('female', female_mep_rating), ('transgender', transgender_mep_rating), ('nonbinary', nonbinary_mep_rating)]\n",
        "\n",
        "    gender_multiplier = 2\n",
        "    for x in mentorGenders_menteeGenderPreference_combinations:\n",
        "      general_rating+= gender_ethnicity_rating_criteria(criteria = gender_ma, mentorStatus = x[0], preference_rating = x[1]) * gender_multiplier\n",
        "      total_general_score+=3 *gender_multiplier\n",
        "\n",
        "\n",
        "    #ethnicity preference match rating\n",
        "    #we check for every ethnicity\n",
        "    mentorEthnicity_menteeEtnicityPreference_combinations = [ ('black', black_mep_rating),  ('hispanic', hispanic_mep_rating)]\n",
        "\n",
        "    ethnicity_multiplier = 2\n",
        "    for s in mentorEthnicity_menteeEtnicityPreference_combinations:\n",
        "      general_rating+= gender_ethnicity_rating_criteria(criteria = ethnicity_ma, mentorStatus = s[0],  preference_rating =s[1]) * ethnicity_multiplier\n",
        "      total_general_score+=3 * ethnicity_multiplier\n",
        "\n",
        "\n",
        "    overall_rating = technical_rating + general_rating \n",
        "    total_rating = total_tech_score + total_general_score \n",
        "\n",
        "    perc_match = 100* (overall_rating/total_rating)\n",
        "    #print('menteeID ' + str(row_index) + ' mentorID ' + str(i) + ' score: '+  str(perc_match))\n",
        "\n",
        "\n",
        "    mentee_matches.loc[i] = [i, perc_match]\n",
        "\n",
        "  return mentee_matches\n",
        "\n",
        "\n",
        "\n",
        "\n",
        "\n",
        "    #TODO : create new Match dataframe, add applicant id, columns are each mentor profile id, values are percentage match\n",
        "    \n",
        "  \n"
      ],
      "execution_count": null,
      "outputs": []
    },
    {
      "cell_type": "code",
      "metadata": {
        "colab": {
          "base_uri": "https://localhost:8080/"
        },
        "id": "ixCF5IcRCtxC",
        "outputId": "9c233a82-49bb-4d25-ff3b-254ae9115a26"
      },
      "source": [
        "\n",
        "#Creating a row indexer that will help make sure that the script doesn't go through the same applicants twice\n",
        "row_index = 0\n",
        "\n",
        "#Iterating through each applicant\n",
        "for i in range(len(mentees.index)):\n",
        "  print('menteeID '+ str(i))\n",
        "  mentee_preferences(row_index, mentees, mentors)\n",
        "  print(mentee_preferences(row_index, mentees, mentors))\n",
        "  row_index+=1"
      ],
      "execution_count": null,
      "outputs": [
        {
          "output_type": "stream",
          "text": [
            "   MentorID  Percentage Match\n",
            "0       0.0         62.962963\n",
            "1       1.0         53.703704\n",
            "   MentorID  Percentage Match\n",
            "0       0.0         61.111111\n",
            "1       1.0         48.148148\n"
          ],
          "name": "stdout"
        }
      ]
    }
  ]
}