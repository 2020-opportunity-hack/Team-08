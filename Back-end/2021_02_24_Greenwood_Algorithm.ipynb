{
  "nbformat": 4,
  "nbformat_minor": 0,
  "metadata": {
    "colab": {
      "name": "2021_02_24_Greenwood_Algorithm.ipynb",
      "provenance": [],
      "collapsed_sections": [],
      "toc_visible": true
    },
    "kernelspec": {
      "name": "python3",
      "display_name": "Python 3"
    }
  },
  "cells": [
    {
      "cell_type": "markdown",
      "metadata": {
        "id": "VXsNyoSSvTc9"
      },
      "source": [
        "##Individual Mentorship Algorithm\n"
      ]
    },
    {
      "cell_type": "code",
      "metadata": {
        "id": "o1_ju5-7uc_m"
      },
      "source": [
        ""
      ],
      "execution_count": null,
      "outputs": []
    },
    {
      "cell_type": "markdown",
      "metadata": {
        "id": "fkFs77MlulJ9"
      },
      "source": [
        "Idea:\n",
        "Make a tensor that has mentor list as its x-axis and student list as its y-axis and the various attributes along its z-axis. In each cell, we will put a 0 for every attribute wherein the mentor and student are compatible and a 1 for every pair that is incompatible. Since the most important thing we are taking into account is need - which exam/what thing the student wants to prepare for, that must be the most important consideration above all else. This algorithm assumes that with respect to the preparation the students are going for, every student does have an appropriate mentor who can guide them (whether the other factors such as gender etc match or not)."
      ]
    },
    {
      "cell_type": "markdown",
      "metadata": {
        "id": "rbrES96nvcqz"
      },
      "source": [
        "Factors taken into account:\n",
        "1. need - preparation to be done\n",
        "2. gender identity - male students match with everyone, all other gender identities \"prefer\" mentors with the same gender identity\n",
        "3. race - all students will \"prefer\" mentors with the same race\n"
      ]
    },
    {
      "cell_type": "markdown",
      "metadata": {
        "id": "R-xTVoIL2dku"
      },
      "source": [
        "Since the data provided does not have information on what the mentors are willing to help with or what the students are precisely looking for, we are assuming that Greenwood collects them from students who have already been accepted. Let the list of all such activities be list_of_prep.\n"
      ]
    },
    {
      "cell_type": "code",
      "metadata": {
        "colab": {
          "base_uri": "https://localhost:8080/",
          "height": 229
        },
        "id": "FZko6n1AuCEY",
        "outputId": "b1798c73-5916-41fb-8c24-5c50b4fbf697"
      },
      "source": [
        "##Create a vector of each student.\n",
        "\n",
        "##importing a csv file with all student infromation as dataframe\n",
        "\n",
        "df = pd.read_csv(\"2021 Financial Institute Application (Responses).csv\")\n",
        "\n",
        "df['Full_Name'] = df['Legal First Name'] + df['Legal Last Name']\n",
        "df.rename(columns = {'Gender Identity':'Gender','I identify my ethnicity as:':'Race'})\n",
        "\n",
        "#assuming that the specific needs the students have will be asked at some point\n",
        "\n",
        "student_df = df[['Full_Name', 'Need', 'Gender', 'Race']].copy()\n",
        "\n",
        "\n",
        "##now we do the same process with the fintech application\n",
        "\n",
        "df = pd.read_csv(\"2021 FinTech Application (Responses).csv\")\n",
        "\n",
        "df['Full_Name'] = df['Legal First Name'] + df['Legal Last Name']\n",
        "df.rename(columns = {'Gender Identity':'Gender','I identify my ethnicity as:':'Race'})\n",
        "\n",
        "\n",
        "\n",
        "\n",
        "##appending values from the fintech application to the financial institute application\n",
        "student_df.append(df[['Full_Name', 'Need', 'Gender', 'Race']].copy())\n",
        "\n",
        "\n",
        "\n",
        "df = pd.read_csv(\"mentor_info.csv\")\n",
        "\n",
        "mentor_df = df[['Name', 'Need', 'Gender', 'Race']].copy()\n",
        "\n",
        "##assuming that the 'Need' column in mentor_info.csv gives a list of all items the mentor is willing to help with. \n",
        "\n",
        "## Creating a matrix for each attribute (effectively forming a 3D tensor).\n",
        "\n",
        "Matrix_Need = np.zeros((student_df.count,mentor_df.count))\n",
        "\n",
        "for i,j in student_df.count,mentor_df.count:\n",
        "\tif student_df.iloc[i]['Need'] in mentor_df.iloc[j]['Need']:  #df.columns.get_loc('Need')\n",
        "\t\tMatrix_Need[i,j] = 0\n",
        "\telse:\n",
        "\t\tMatrix_Need[i,j] = 1\n",
        "\n",
        "\n",
        "Matrix_Gender = np.zeros((student_df.count,mentor_df.count))\n",
        "\n",
        "for i,j in student_df.count,mentor_df.count:\n",
        "\tif student_df.iloc[i]['Gender'] == mentor_df.iloc[j]['Gender']:\n",
        "\t\tMatrix_Gender[i,j] = 0\n",
        "\telse:\n",
        "\t\tMatrix_Gender[i,j] = 1\n",
        "\n",
        "\n",
        "Matrix_Race = np.zeros((student_df.count,mentor_df.count))\n",
        "\n",
        "for i,j in student_df.count,mentor_df.count:\n",
        "\tif student_df.iloc[i]['Gender'] == mentor_df.iloc[j]['Gender']:\n",
        "\t\tMatrix_Race[i,j] = 0\n",
        "\telse:\n",
        "\t\tMatrix_Race[i,j] = 1\n",
        "\n",
        "#create a permutation matrix\n",
        "def I(n):\n",
        "    A = []\n",
        "    for i in range(n):\n",
        "        A.append([1 if j == i else 0 for j in range(n)])\n",
        "    return A\n",
        "\n",
        "def J(n,m):  ## m > n\n",
        "    arr = np.concatenate((I(n), np.zeros((m-n,n))), axis=0)\n",
        "    return arr\n",
        "\n",
        "perm_list = []\n",
        "\n",
        "for m in itertools.permutations(J(student_df.count,mentor_df.count)):\n",
        "    perm_list.append(m)\n",
        "\n",
        "val_list_Need = []\n",
        "val_list_Gender = []\n",
        "val_list_Race = []\n",
        "\n",
        "for perm in perm_list:\n",
        "\tval_list_Need.append(np.sum(perm*Matrix_Need))\n",
        "\tval_list_Gender.append(np.sum(perm*Matrix_Gender))\n",
        "\tval_list_Race.append(np.sum(perm*Matrix_Race))\n",
        "\n",
        "net_error_list = []\n",
        "for i in range(0,len(perm_list)):\n",
        "\tnet_error_list.append(val_list_Need[i]*1000 + val_list_Gender[i]*2 + val_list_Race[i]*5)\n",
        "\n",
        "lowest_error_index = net_error_list.index(min(net_error_list))\n",
        "lowest_error_perm = perm_list[lowest_error_index]\n",
        "\n"
      ],
      "execution_count": null,
      "outputs": [
        {
          "output_type": "error",
          "ename": "NameError",
          "evalue": "ignored",
          "traceback": [
            "\u001b[0;31m---------------------------------------------------------------------------\u001b[0m",
            "\u001b[0;31mNameError\u001b[0m                                 Traceback (most recent call last)",
            "\u001b[0;32m<ipython-input-4-34758f18b414>\u001b[0m in \u001b[0;36m<module>\u001b[0;34m()\u001b[0m\n\u001b[1;32m      3\u001b[0m \u001b[0;31m##importing a csv file with all student infromation as dataframe\u001b[0m\u001b[0;34m\u001b[0m\u001b[0;34m\u001b[0m\u001b[0;34m\u001b[0m\u001b[0m\n\u001b[1;32m      4\u001b[0m \u001b[0;34m\u001b[0m\u001b[0m\n\u001b[0;32m----> 5\u001b[0;31m \u001b[0mdf\u001b[0m \u001b[0;34m=\u001b[0m \u001b[0mpd\u001b[0m\u001b[0;34m.\u001b[0m\u001b[0mread_csv\u001b[0m\u001b[0;34m(\u001b[0m\u001b[0;34m\"2021 Financial Institute Application (Responses).csv\"\u001b[0m\u001b[0;34m)\u001b[0m\u001b[0;34m\u001b[0m\u001b[0;34m\u001b[0m\u001b[0m\n\u001b[0m\u001b[1;32m      6\u001b[0m \u001b[0;34m\u001b[0m\u001b[0m\n\u001b[1;32m      7\u001b[0m \u001b[0mdf\u001b[0m\u001b[0;34m[\u001b[0m\u001b[0;34m'Full_Name'\u001b[0m\u001b[0;34m]\u001b[0m \u001b[0;34m=\u001b[0m \u001b[0mdf\u001b[0m\u001b[0;34m[\u001b[0m\u001b[0;34m'Legal First Name'\u001b[0m\u001b[0;34m]\u001b[0m \u001b[0;34m+\u001b[0m \u001b[0mdf\u001b[0m\u001b[0;34m[\u001b[0m\u001b[0;34m'Legal Last Name'\u001b[0m\u001b[0;34m]\u001b[0m\u001b[0;34m\u001b[0m\u001b[0;34m\u001b[0m\u001b[0m\n",
            "\u001b[0;31mNameError\u001b[0m: name 'pd' is not defined"
          ]
        }
      ]
    },
    {
      "cell_type": "code",
      "metadata": {
        "id": "JHjSEgyA_nPj"
      },
      "source": [
        "#To get the stuff back:\n",
        "np.argwhere(lowest_error_perm == 1)"
      ],
      "execution_count": null,
      "outputs": []
    }
  ]
}